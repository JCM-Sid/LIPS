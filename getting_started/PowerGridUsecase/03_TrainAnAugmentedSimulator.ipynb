{
 "cells": [
  {
   "cell_type": "markdown",
   "metadata": {},
   "source": [
    "# Train an augmented simulator (Power Grid use case)\n",
    "\n",
    "This notebook shows how to select and train an augmented simulator. In this notebook, we concentrate on the already implemented architectures. \n",
    "\n",
    "We will also show how the trained augmented simulators could be stored and be restored in future for the evaluation (for the evaluation see Notebook 2). As the training of an augmented simulator could be costly, we suggest users to use a GPU ressource if available and also to store their model for its further evaluation.\n",
    "\n",
    "We use the `Benchmark1` and the `Benchmark2` of the Power Grid use case to demonstrate how to perform this task. \n",
    "\n",
    "On the first section, we explain how to use a model that is already available on this reposotiry. The second section is dedicated to the explanation of what is needed to create a different kind of `AugmentedSimulator` with a different Neural Network archiecture with a customized loss etc."
   ]
  },
  {
   "cell_type": "markdown",
   "metadata": {},
   "source": [
    "## TOC:\n",
    "* [Benchmark1](#benchmark1)\n",
    "    * [FullyConnected](#fc_benchmark1)\n",
    "    * [LeapNet](#leapnet_benchmark1)\n",
    "* [Benchmark2](#benchmark2)\n",
    "    * [FullyConnected](#fc_benchmark2)\n",
    "    * [LeapNet](#leapnet_benchmark2)\n",
    "* [Code another `augmented simulator`](#code-another)"
   ]
  },
  {
   "cell_type": "code",
   "execution_count": 1,
   "metadata": {},
   "outputs": [],
   "source": [
    "import pathlib\n",
    "from lips import get_root_path\n",
    "from pprint import pprint\n",
    "from lips.benchmark.powergridBenchmark import PowerGridBenchmark\n",
    "from lips.utils import get_path"
   ]
  },
  {
   "cell_type": "code",
   "execution_count": 2,
   "metadata": {},
   "outputs": [],
   "source": [
    "# indicate required paths\n",
    "LIPS_PATH = get_root_path(pathlib_format=True).resolve().parents[3]  # it is supposed that the notebook had run from getting_started folder\n",
    "DATA_PATH = LIPS_PATH / \"reference_data\" / \"powergrid\" / \"l2rpn_case14_sandbox\"\n",
    "BENCH_CONFIG_PATH = LIPS_PATH / \"configurations\" / \"powergrid\" / \"benchmarks\" / \"l2rpn_case14_sandbox.ini\"\n",
    "SIM_CONFIG_PATH = LIPS_PATH / \"configurations\" / \"powergrid\" / \"simulators\"\n",
    "BASELINES_PATH = LIPS_PATH / \"trained_baselines\" / \"powergrid\"\n",
    "TRAINED_MODEL_PATH = LIPS_PATH / \"trained_models\" / \"powergrid\"\n",
    "EVALUATION_PATH = LIPS_PATH / \"evaluation_results\" / \"PowerGrid\"\n",
    "LOG_PATH = LIPS_PATH / \"lips_logs.log\""
   ]
  },
  {
   "cell_type": "markdown",
   "metadata": {},
   "source": [
    "# Benchmark1 <a class=\"anchor\" id=\"benchmark1\"></a>"
   ]
  },
  {
   "cell_type": "markdown",
   "metadata": {},
   "source": [
    "## Load the benchmark dataset\n",
    "\n",
    "As always the first step is always to load our dataset."
   ]
  },
  {
   "cell_type": "code",
   "execution_count": 6,
   "metadata": {},
   "outputs": [],
   "source": [
    "benchmark1 = PowerGridBenchmark(benchmark_name=\"Benchmark1\",\n",
    "                                benchmark_path=DATA_PATH,\n",
    "                                load_data_set=True,\n",
    "                                log_path=LOG_PATH,\n",
    "                                config_path=BENCH_CONFIG_PATH\n",
    "                               )"
   ]
  },
  {
   "cell_type": "markdown",
   "metadata": {},
   "source": [
    "To verify the config is loaded appropriately for this benchmark"
   ]
  },
  {
   "cell_type": "code",
   "execution_count": 5,
   "metadata": {},
   "outputs": [
    {
     "name": "stdout",
     "output_type": "stream",
     "text": [
      "Benchmark name:  Benchmark1\n",
      "Environment name:  l2rpn_case14_sandbox\n",
      "Output attributes:  ('a_or', 'a_ex')\n",
      "Evaluation criteria: \n",
      "{'IndRed': ['TIME_INF'],\n",
      " 'ML': ['MSE_avg', 'MAE_avg', 'MAPE_avg', 'MAPE_90_avg', 'TIME_INF'],\n",
      " 'OOD': ['MSE_avg', 'MAE_avg', 'MAPE_avg', 'MAPE_90_avg', 'TIME_INF'],\n",
      " 'Physics': ['CURRENT_POS']}\n"
     ]
    }
   ],
   "source": [
    "print(\"Benchmark name: \", benchmark1.config.section_name)\n",
    "print(\"Environment name: \", benchmark1.config.get_option(\"env_name\"))\n",
    "print(\"Output attributes: \", benchmark1.config.get_option(\"attr_y\"))\n",
    "print(\"Evaluation criteria: \")\n",
    "pprint(benchmark1.config.get_option(\"eval_dict\"))"
   ]
  },
  {
   "cell_type": "markdown",
   "metadata": {},
   "source": [
    "## Train an available model (Fully Connected) <a class=\"anchor\" id=\"fc_benchmark1\"></a>\n",
    "\n",
    "In this section we explain how to tune an available model. We take the example of the `FullyConnectedAS` that is an available fully connected neural network.\n",
    "\n",
    "This section supposes that you already have a \"model\" (for example based on neural networks) that meets the `AugmentedSimulator` interface. If you do not have it already, the next section will cover the main principles.\n",
    "\n",
    "**NB** The creation of the 'augmented_simulator' depends on each type of 'augmented_simulator'. \n",
    "\n",
    "The first step is to create the class you want to use, with the meta parameters you want to test. For this example:"
   ]
  },
  {
   "cell_type": "code",
   "execution_count": 6,
   "metadata": {},
   "outputs": [],
   "source": [
    "from lips.augmented_simulators.tensorflow_models import TfFullyConnected\n",
    "from lips.dataset.scaler import StandardScaler\n",
    "\n",
    "# the three lines bellow might be familiar to the tensorflow users. They tell tensorflow to not take all\n",
    "# the GPU video RAM for the model.\n",
    "import tensorflow as tf\n",
    "physical_devices = tf.config.list_physical_devices('GPU') \n",
    "for el in physical_devices:\n",
    "    tf.config.experimental.set_memory_growth(el, True)\n",
    "    \n",
    "tf_fc = TfFullyConnected(name=\"tf_fc\",\n",
    "                         # the path to the augmented simulator config file containing its hyperparameters\n",
    "                         sim_config_path=SIM_CONFIG_PATH / \"tf_fc.ini\",\n",
    "                         # using a specific configuration available in configuration file, DEFAULT here\n",
    "                         sim_config_name=\"DEFAULT\",\n",
    "                         # the path to the benchmark config file\n",
    "                         bench_config_path=BENCH_CONFIG_PATH,\n",
    "                         # `Benchmark_name` should correspond to one of config sections created earlier\n",
    "                         bench_config_name=\"Benchmark1\",\n",
    "                         # use a scaler class used to scale the datasets for a better learning\n",
    "                         scaler=StandardScaler,\n",
    "                         # a path where the logs during the training should be stored for debugging purpose\n",
    "                         log_path=LOG_PATH)"
   ]
  },
  {
   "cell_type": "markdown",
   "metadata": {},
   "source": [
    "Then you need to train it. For example here we will train it for 200 epochs.\n",
    "\n",
    "**NB** You are responsible to use the correct dataset for training your model ! You can make experiments by training on the `test` set or on the `test_ood_topo` set if you want but we don't recommend you do to so !\n",
    "\n",
    "**NB** This code is generic and should work for all `AugementedSimulator`"
   ]
  },
  {
   "cell_type": "code",
   "execution_count": 7,
   "metadata": {},
   "outputs": [
    {
     "name": "stdout",
     "output_type": "stream",
     "text": [
      "Epoch 1/100\n",
      "782/782 [==============================] - 4s 4ms/step - loss: 0.0889 - mae: 0.1658 - val_loss: 0.0193 - val_mae: 0.1013\n",
      "Epoch 2/100\n",
      "782/782 [==============================] - 3s 4ms/step - loss: 0.0096 - mae: 0.0699 - val_loss: 0.0089 - val_mae: 0.0693\n",
      "Epoch 3/100\n",
      "782/782 [==============================] - 3s 4ms/step - loss: 0.0056 - mae: 0.0540 - val_loss: 0.0076 - val_mae: 0.0657\n",
      "Epoch 4/100\n",
      "782/782 [==============================] - 3s 4ms/step - loss: 0.0041 - mae: 0.0465 - val_loss: 0.0047 - val_mae: 0.0508\n",
      "Epoch 5/100\n",
      "782/782 [==============================] - 3s 3ms/step - loss: 0.0032 - mae: 0.0411 - val_loss: 0.0039 - val_mae: 0.0462\n",
      "Epoch 6/100\n",
      "782/782 [==============================] - 3s 4ms/step - loss: 0.0027 - mae: 0.0381 - val_loss: 0.0032 - val_mae: 0.0422\n",
      "Epoch 7/100\n",
      "782/782 [==============================] - 3s 3ms/step - loss: 0.0024 - mae: 0.0355 - val_loss: 0.0032 - val_mae: 0.0420\n",
      "Epoch 8/100\n",
      "782/782 [==============================] - 3s 4ms/step - loss: 0.0021 - mae: 0.0332 - val_loss: 0.0025 - val_mae: 0.0376\n",
      "Epoch 9/100\n",
      "782/782 [==============================] - 3s 4ms/step - loss: 0.0019 - mae: 0.0315 - val_loss: 0.0023 - val_mae: 0.0367\n",
      "Epoch 10/100\n",
      "782/782 [==============================] - 3s 4ms/step - loss: 0.0017 - mae: 0.0303 - val_loss: 0.0025 - val_mae: 0.0368\n",
      "Epoch 11/100\n",
      "782/782 [==============================] - 3s 4ms/step - loss: 0.0016 - mae: 0.0294 - val_loss: 0.0021 - val_mae: 0.0343\n",
      "Epoch 12/100\n",
      "782/782 [==============================] - 3s 4ms/step - loss: 0.0014 - mae: 0.0278 - val_loss: 0.0020 - val_mae: 0.0335\n",
      "Epoch 13/100\n",
      "782/782 [==============================] - 3s 4ms/step - loss: 0.0014 - mae: 0.0270 - val_loss: 0.0020 - val_mae: 0.0333\n",
      "Epoch 14/100\n",
      "782/782 [==============================] - 3s 4ms/step - loss: 0.0013 - mae: 0.0260 - val_loss: 0.0018 - val_mae: 0.0324\n",
      "Epoch 15/100\n",
      "782/782 [==============================] - 3s 4ms/step - loss: 0.0012 - mae: 0.0257 - val_loss: 0.0022 - val_mae: 0.0357\n",
      "Epoch 16/100\n",
      "782/782 [==============================] - 3s 4ms/step - loss: 0.0011 - mae: 0.0247 - val_loss: 0.0016 - val_mae: 0.0296\n",
      "Epoch 17/100\n",
      "782/782 [==============================] - 3s 4ms/step - loss: 0.0011 - mae: 0.0240 - val_loss: 0.0019 - val_mae: 0.0333\n",
      "Epoch 18/100\n",
      "782/782 [==============================] - 3s 4ms/step - loss: 0.0011 - mae: 0.0238 - val_loss: 0.0013 - val_mae: 0.0270\n",
      "Epoch 19/100\n",
      "782/782 [==============================] - 3s 4ms/step - loss: 9.9953e-04 - mae: 0.0231 - val_loss: 0.0015 - val_mae: 0.0296\n",
      "Epoch 20/100\n",
      "782/782 [==============================] - 3s 4ms/step - loss: 9.5199e-04 - mae: 0.0226 - val_loss: 0.0013 - val_mae: 0.0269\n",
      "Epoch 21/100\n",
      "782/782 [==============================] - 3s 4ms/step - loss: 9.6112e-04 - mae: 0.0226 - val_loss: 0.0014 - val_mae: 0.0278\n",
      "Epoch 22/100\n",
      "782/782 [==============================] - 3s 4ms/step - loss: 8.7387e-04 - mae: 0.0216 - val_loss: 0.0011 - val_mae: 0.0246\n",
      "Epoch 23/100\n",
      "782/782 [==============================] - 3s 4ms/step - loss: 8.3745e-04 - mae: 0.0212 - val_loss: 0.0010 - val_mae: 0.0241\n",
      "Epoch 24/100\n",
      "782/782 [==============================] - 3s 4ms/step - loss: 8.5182e-04 - mae: 0.0214 - val_loss: 0.0013 - val_mae: 0.0265\n",
      "Epoch 25/100\n",
      "782/782 [==============================] - 3s 4ms/step - loss: 8.3011e-04 - mae: 0.0211 - val_loss: 0.0014 - val_mae: 0.0280\n",
      "Epoch 26/100\n",
      "782/782 [==============================] - 3s 4ms/step - loss: 7.8504e-04 - mae: 0.0205 - val_loss: 0.0011 - val_mae: 0.0248\n",
      "Epoch 27/100\n",
      "782/782 [==============================] - 3s 4ms/step - loss: 7.6537e-04 - mae: 0.0202 - val_loss: 0.0013 - val_mae: 0.0262\n",
      "Epoch 28/100\n",
      "782/782 [==============================] - 3s 4ms/step - loss: 7.6316e-04 - mae: 0.0202 - val_loss: 0.0012 - val_mae: 0.0262\n",
      "Epoch 29/100\n",
      "782/782 [==============================] - 3s 4ms/step - loss: 7.2491e-04 - mae: 0.0197 - val_loss: 9.3471e-04 - val_mae: 0.0227\n",
      "Epoch 30/100\n",
      "782/782 [==============================] - 3s 4ms/step - loss: 7.6614e-04 - mae: 0.0200 - val_loss: 8.8969e-04 - val_mae: 0.0225\n",
      "Epoch 31/100\n",
      "782/782 [==============================] - 3s 4ms/step - loss: 6.7478e-04 - mae: 0.0191 - val_loss: 8.1248e-04 - val_mae: 0.0211\n",
      "Epoch 32/100\n",
      "782/782 [==============================] - 3s 4ms/step - loss: 6.8154e-04 - mae: 0.0191 - val_loss: 9.1425e-04 - val_mae: 0.0226\n",
      "Epoch 33/100\n",
      "782/782 [==============================] - 3s 3ms/step - loss: 6.6759e-04 - mae: 0.0189 - val_loss: 8.9209e-04 - val_mae: 0.0224\n",
      "Epoch 34/100\n",
      "782/782 [==============================] - 3s 4ms/step - loss: 6.5045e-04 - mae: 0.0186 - val_loss: 9.4957e-04 - val_mae: 0.0234\n",
      "Epoch 35/100\n",
      "782/782 [==============================] - 3s 4ms/step - loss: 6.4213e-04 - mae: 0.0185 - val_loss: 8.4767e-04 - val_mae: 0.0218\n",
      "Epoch 36/100\n",
      "782/782 [==============================] - 3s 4ms/step - loss: 6.2882e-04 - mae: 0.0183 - val_loss: 8.6310e-04 - val_mae: 0.0220\n",
      "Epoch 37/100\n",
      "782/782 [==============================] - 3s 4ms/step - loss: 6.2704e-04 - mae: 0.0182 - val_loss: 8.5417e-04 - val_mae: 0.0219\n",
      "Epoch 38/100\n",
      "782/782 [==============================] - 3s 3ms/step - loss: 6.3735e-04 - mae: 0.0184 - val_loss: 0.0011 - val_mae: 0.0253\n",
      "Epoch 39/100\n",
      "782/782 [==============================] - 3s 3ms/step - loss: 5.9692e-04 - mae: 0.0178 - val_loss: 6.6567e-04 - val_mae: 0.0193\n",
      "Epoch 40/100\n",
      "782/782 [==============================] - 3s 3ms/step - loss: 5.7168e-04 - mae: 0.0175 - val_loss: 9.9671e-04 - val_mae: 0.0242\n",
      "Epoch 41/100\n",
      "782/782 [==============================] - 3s 4ms/step - loss: 5.9156e-04 - mae: 0.0177 - val_loss: 7.0601e-04 - val_mae: 0.0197\n",
      "Epoch 42/100\n",
      "782/782 [==============================] - 3s 4ms/step - loss: 5.4478e-04 - mae: 0.0171 - val_loss: 8.1130e-04 - val_mae: 0.0216\n",
      "Epoch 43/100\n",
      "782/782 [==============================] - 3s 4ms/step - loss: 6.0066e-04 - mae: 0.0178 - val_loss: 0.0012 - val_mae: 0.0261\n",
      "Epoch 44/100\n",
      "782/782 [==============================] - 3s 4ms/step - loss: 5.2722e-04 - mae: 0.0167 - val_loss: 7.4241e-04 - val_mae: 0.0203\n",
      "Epoch 45/100\n",
      "782/782 [==============================] - 3s 4ms/step - loss: 5.5935e-04 - mae: 0.0173 - val_loss: 8.1395e-04 - val_mae: 0.0214\n",
      "Epoch 46/100\n",
      "782/782 [==============================] - 3s 4ms/step - loss: 5.3081e-04 - mae: 0.0168 - val_loss: 6.8741e-04 - val_mae: 0.0197\n",
      "Epoch 47/100\n",
      "782/782 [==============================] - 3s 4ms/step - loss: 5.3594e-04 - mae: 0.0168 - val_loss: 6.4043e-04 - val_mae: 0.0186\n",
      "Epoch 48/100\n",
      "782/782 [==============================] - 3s 4ms/step - loss: 5.0757e-04 - mae: 0.0165 - val_loss: 7.3113e-04 - val_mae: 0.0203\n",
      "Epoch 49/100\n",
      "782/782 [==============================] - 3s 4ms/step - loss: 5.4084e-04 - mae: 0.0169 - val_loss: 6.9029e-04 - val_mae: 0.0192\n",
      "Epoch 50/100\n",
      "782/782 [==============================] - 3s 4ms/step - loss: 4.9373e-04 - mae: 0.0162 - val_loss: 7.3409e-04 - val_mae: 0.0203\n",
      "Epoch 51/100\n",
      "782/782 [==============================] - 3s 4ms/step - loss: 5.1490e-04 - mae: 0.0165 - val_loss: 7.8932e-04 - val_mae: 0.0211\n",
      "Epoch 52/100\n",
      "782/782 [==============================] - 3s 4ms/step - loss: 4.6959e-04 - mae: 0.0158 - val_loss: 8.2686e-04 - val_mae: 0.0211\n",
      "Epoch 53/100\n",
      "782/782 [==============================] - 3s 4ms/step - loss: 5.0269e-04 - mae: 0.0163 - val_loss: 9.3275e-04 - val_mae: 0.0233\n",
      "Epoch 54/100\n",
      "782/782 [==============================] - 3s 4ms/step - loss: 4.9873e-04 - mae: 0.0162 - val_loss: 7.9199e-04 - val_mae: 0.0213\n",
      "Epoch 55/100\n",
      "782/782 [==============================] - 3s 4ms/step - loss: 4.7105e-04 - mae: 0.0158 - val_loss: 6.0135e-04 - val_mae: 0.0184\n",
      "Epoch 56/100\n",
      "782/782 [==============================] - 3s 4ms/step - loss: 4.6982e-04 - mae: 0.0157 - val_loss: 5.8750e-04 - val_mae: 0.0181\n",
      "Epoch 57/100\n",
      "782/782 [==============================] - 3s 4ms/step - loss: 4.7095e-04 - mae: 0.0158 - val_loss: 6.6205e-04 - val_mae: 0.0196\n",
      "Epoch 58/100\n",
      "782/782 [==============================] - 3s 4ms/step - loss: 4.5911e-04 - mae: 0.0156 - val_loss: 7.7996e-04 - val_mae: 0.0207\n",
      "Epoch 59/100\n",
      "782/782 [==============================] - 3s 4ms/step - loss: 4.4190e-04 - mae: 0.0153 - val_loss: 6.7642e-04 - val_mae: 0.0196\n",
      "Epoch 60/100\n",
      "782/782 [==============================] - 3s 4ms/step - loss: 4.5860e-04 - mae: 0.0155 - val_loss: 5.6149e-04 - val_mae: 0.0179\n",
      "Epoch 61/100\n",
      "782/782 [==============================] - 3s 4ms/step - loss: 4.6230e-04 - mae: 0.0156 - val_loss: 8.0627e-04 - val_mae: 0.0212\n",
      "Epoch 62/100\n",
      "782/782 [==============================] - 3s 4ms/step - loss: 4.2047e-04 - mae: 0.0149 - val_loss: 6.8441e-04 - val_mae: 0.0199\n",
      "Epoch 63/100\n",
      "782/782 [==============================] - 3s 4ms/step - loss: 4.4578e-04 - mae: 0.0153 - val_loss: 8.9492e-04 - val_mae: 0.0219\n",
      "Epoch 64/100\n",
      "782/782 [==============================] - 3s 4ms/step - loss: 4.3268e-04 - mae: 0.0151 - val_loss: 6.3164e-04 - val_mae: 0.0186\n",
      "Epoch 65/100\n",
      "782/782 [==============================] - 3s 4ms/step - loss: 4.4720e-04 - mae: 0.0153 - val_loss: 7.4866e-04 - val_mae: 0.0203\n",
      "Epoch 66/100\n",
      "782/782 [==============================] - 3s 4ms/step - loss: 4.3000e-04 - mae: 0.0151 - val_loss: 8.2228e-04 - val_mae: 0.0218\n",
      "Epoch 67/100\n",
      "782/782 [==============================] - 3s 4ms/step - loss: 4.0488e-04 - mae: 0.0146 - val_loss: 7.2098e-04 - val_mae: 0.0200\n",
      "Epoch 68/100\n",
      "782/782 [==============================] - 3s 4ms/step - loss: 4.2020e-04 - mae: 0.0149 - val_loss: 7.5925e-04 - val_mae: 0.0207\n",
      "Epoch 69/100\n",
      "782/782 [==============================] - 3s 4ms/step - loss: 3.9647e-04 - mae: 0.0145 - val_loss: 6.6254e-04 - val_mae: 0.0192\n",
      "Epoch 70/100\n",
      "782/782 [==============================] - 3s 4ms/step - loss: 4.4163e-04 - mae: 0.0152 - val_loss: 5.2055e-04 - val_mae: 0.0173\n",
      "Epoch 71/100\n",
      "782/782 [==============================] - 3s 4ms/step - loss: 3.6604e-04 - mae: 0.0139 - val_loss: 5.1583e-04 - val_mae: 0.0168\n",
      "Epoch 72/100\n",
      "782/782 [==============================] - 3s 4ms/step - loss: 4.2257e-04 - mae: 0.0149 - val_loss: 5.8100e-04 - val_mae: 0.0180\n",
      "Epoch 73/100\n",
      "782/782 [==============================] - 3s 4ms/step - loss: 3.7775e-04 - mae: 0.0141 - val_loss: 6.6794e-04 - val_mae: 0.0192\n",
      "Epoch 74/100\n",
      "782/782 [==============================] - 3s 4ms/step - loss: 3.9614e-04 - mae: 0.0144 - val_loss: 5.9994e-04 - val_mae: 0.0182\n",
      "Epoch 75/100\n",
      "782/782 [==============================] - 3s 4ms/step - loss: 4.2394e-04 - mae: 0.0148 - val_loss: 5.6188e-04 - val_mae: 0.0181\n",
      "Epoch 76/100\n",
      "782/782 [==============================] - 3s 4ms/step - loss: 3.5318e-04 - mae: 0.0137 - val_loss: 5.1010e-04 - val_mae: 0.0168\n",
      "Epoch 77/100\n",
      "782/782 [==============================] - 3s 4ms/step - loss: 3.9481e-04 - mae: 0.0144 - val_loss: 6.3841e-04 - val_mae: 0.0191\n",
      "Epoch 78/100\n",
      "782/782 [==============================] - 3s 4ms/step - loss: 3.9077e-04 - mae: 0.0143 - val_loss: 4.7397e-04 - val_mae: 0.0159\n",
      "Epoch 79/100\n",
      "782/782 [==============================] - 3s 4ms/step - loss: 4.0841e-04 - mae: 0.0145 - val_loss: 5.4828e-04 - val_mae: 0.0178\n",
      "Epoch 80/100\n",
      "782/782 [==============================] - 3s 4ms/step - loss: 3.4147e-04 - mae: 0.0134 - val_loss: 8.1093e-04 - val_mae: 0.0213\n",
      "Epoch 81/100\n",
      "782/782 [==============================] - 3s 4ms/step - loss: 3.9012e-04 - mae: 0.0142 - val_loss: 5.0028e-04 - val_mae: 0.0167\n",
      "Epoch 82/100\n",
      "782/782 [==============================] - 3s 4ms/step - loss: 3.4969e-04 - mae: 0.0136 - val_loss: 3.9070e-04 - val_mae: 0.0147\n",
      "Epoch 83/100\n",
      "782/782 [==============================] - 3s 4ms/step - loss: 3.6803e-04 - mae: 0.0139 - val_loss: 5.4388e-04 - val_mae: 0.0171\n",
      "Epoch 84/100\n",
      "782/782 [==============================] - 3s 4ms/step - loss: 3.6593e-04 - mae: 0.0139 - val_loss: 4.7111e-04 - val_mae: 0.0161\n",
      "Epoch 85/100\n",
      "782/782 [==============================] - 3s 4ms/step - loss: 3.5834e-04 - mae: 0.0138 - val_loss: 6.7957e-04 - val_mae: 0.0194\n",
      "Epoch 86/100\n",
      "782/782 [==============================] - 3s 4ms/step - loss: 3.6503e-04 - mae: 0.0138 - val_loss: 5.0678e-04 - val_mae: 0.0171\n",
      "Epoch 87/100\n",
      "782/782 [==============================] - 3s 4ms/step - loss: 3.5429e-04 - mae: 0.0136 - val_loss: 7.0768e-04 - val_mae: 0.0176\n",
      "Epoch 88/100\n",
      "782/782 [==============================] - 3s 4ms/step - loss: 3.4276e-04 - mae: 0.0133 - val_loss: 6.1841e-04 - val_mae: 0.0189\n",
      "Epoch 89/100\n",
      "782/782 [==============================] - 3s 4ms/step - loss: 3.5032e-04 - mae: 0.0135 - val_loss: 5.7912e-04 - val_mae: 0.0176\n",
      "Epoch 90/100\n",
      "782/782 [==============================] - 3s 4ms/step - loss: 3.4065e-04 - mae: 0.0134 - val_loss: 4.5818e-04 - val_mae: 0.0158\n",
      "Epoch 91/100\n",
      "782/782 [==============================] - 3s 4ms/step - loss: 3.5137e-04 - mae: 0.0136 - val_loss: 4.5767e-04 - val_mae: 0.0160\n",
      "Epoch 92/100\n",
      "782/782 [==============================] - 3s 4ms/step - loss: 3.2418e-04 - mae: 0.0131 - val_loss: 5.2126e-04 - val_mae: 0.0167\n",
      "Epoch 93/100\n",
      "782/782 [==============================] - 3s 4ms/step - loss: 3.2961e-04 - mae: 0.0132 - val_loss: 5.0656e-04 - val_mae: 0.0168\n",
      "Epoch 94/100\n",
      "782/782 [==============================] - 3s 4ms/step - loss: 3.6125e-04 - mae: 0.0138 - val_loss: 4.9997e-04 - val_mae: 0.0163\n",
      "Epoch 95/100\n",
      "782/782 [==============================] - 3s 4ms/step - loss: 3.2488e-04 - mae: 0.0131 - val_loss: 4.9612e-04 - val_mae: 0.0165\n",
      "Epoch 96/100\n",
      "782/782 [==============================] - 3s 4ms/step - loss: 3.3511e-04 - mae: 0.0132 - val_loss: 5.3176e-04 - val_mae: 0.0174\n",
      "Epoch 97/100\n",
      "782/782 [==============================] - 3s 4ms/step - loss: 3.0674e-04 - mae: 0.0128 - val_loss: 6.1949e-04 - val_mae: 0.0182\n",
      "Epoch 98/100\n",
      "782/782 [==============================] - 3s 4ms/step - loss: 3.3172e-04 - mae: 0.0132 - val_loss: 5.3323e-04 - val_mae: 0.0162\n",
      "Epoch 99/100\n",
      "782/782 [==============================] - 3s 4ms/step - loss: 3.4680e-04 - mae: 0.0134 - val_loss: 5.7183e-04 - val_mae: 0.0181\n",
      "Epoch 100/100\n",
      "782/782 [==============================] - 3s 4ms/step - loss: 3.2001e-04 - mae: 0.0130 - val_loss: 4.1791e-04 - val_mae: 0.0151\n"
     ]
    },
    {
     "data": {
      "text/plain": [
       "<keras.callbacks.History at 0x220c2675e70>"
      ]
     },
     "execution_count": 7,
     "metadata": {},
     "output_type": "execute_result"
    }
   ],
   "source": [
    "tf_fc.train(train_dataset=benchmark1.train_dataset,\n",
    "            val_dataset=benchmark1.val_dataset,\n",
    "            epochs=100\n",
    "           )"
   ]
  },
  {
   "cell_type": "code",
   "execution_count": 8,
   "metadata": {},
   "outputs": [
    {
     "data": {
      "image/png": "[encoded data removed]",
      "text/plain": [
       "<Figure size 1500x500 with 2 Axes>"
      ]
     },
     "metadata": {},
     "output_type": "display_data"
    }
   ],
   "source": [
    "tf_fc.visualize_convergence()"
   ]
  },
  {
   "cell_type": "markdown",
   "metadata": {},
   "source": [
    "And then you can save it:"
   ]
  },
  {
   "cell_type": "code",
   "execution_count": 8,
   "metadata": {},
   "outputs": [
    {
     "name": "stdout",
     "output_type": "stream",
     "text": [
      "C:\\Users\\jch_m\\DocumentsPerso\\Centrale-IAC\\Cours\\Python-ML\\ProjectMaster\\LIPS\\configurations\\powergrid\\benchmarks\\l2rpn_case14_sandbox.ini\\l2rpn_case14_sandbox\\Benchmark1\n",
      "C:\\Users\\jch_m\\DocumentsPerso\\Centrale-IAC\\Cours\\Python-ML\\ProjectMaster\\LIPS\\trained_models\\powergrid\\l2rpn_case14_sandbox\\Benchmark1\n"
     ]
    }
   ],
   "source": [
    "bench = get_path(BENCH_CONFIG_PATH, benchmark1)\n",
    "SAVE_PATH = get_path(TRAINED_MODEL_PATH, benchmark1)\n",
    "print(bench)\n",
    "print(SAVE_PATH)"
   ]
  },
  {
   "cell_type": "code",
   "execution_count": 9,
   "metadata": {},
   "outputs": [],
   "source": [
    "SAVE_PATH = get_path(TRAINED_MODEL_PATH, benchmark1)\n",
    "tf_fc.save(SAVE_PATH)"
   ]
  },
  {
   "cell_type": "markdown",
   "metadata": {},
   "source": [
    "Once saved, if you want to reuse it you can do exactly as we did in the previous notebook:\n",
    "```python\n",
    "from lips.augmented_simulators.tensorflow_models import TfFullyConnected\n",
    "from lips.dataset.scaler import StandardScaler\n",
    "\n",
    "tf_fc = TfFullyConnected(name=\"tf_fc\", # the name should match!\n",
    "                         sim_config_path=SIM_CONFIG_PATH / \"tf_fc.ini\",\n",
    "                         sim_config_name=\"DEFAULT\",\n",
    "                         bench_config_path=BENCH_CONFIG_PATH,\n",
    "                         bench_config_name=\"Benchmark1\",\n",
    "                         scaler=StandardScaler,\n",
    "                         log_path=LOG_PATH) \n",
    "\n",
    "LOAD_PATH = get_path(BASELINES_PATH, benchmark1)\n",
    "tf_fc.restore(LOAD_PATH)\n",
    "```\n",
    "\n",
    "And you are good to go !"
   ]
  },
  {
   "cell_type": "markdown",
   "metadata": {},
   "source": [
    "## Train another architecture (LeapNet model) <a class=\"anchor\" id=\"leapnet_benchmark1\"></a>\n",
    "The leap nets allows to take into account the topology in the latent space, and have a more robust generalization performance than a simple fully connected model."
   ]
  },
  {
   "cell_type": "code",
   "execution_count": 10,
   "metadata": {},
   "outputs": [
    {
     "ename": "ImportError",
     "evalue": "cannot import name 'PowerGridScaler' from 'lips.dataset.scaler' (c:\\Users\\jch_m\\DocumentsPerso\\Centrale-IAC\\Cours\\Python-ML\\ProjectMaster\\LIPS\\.env_lips\\lib\\site-packages\\lips\\dataset\\scaler\\__init__.py)",
     "output_type": "error",
     "traceback": [
      "\u001b[1;31m---------------------------------------------------------------------------\u001b[0m",
      "\u001b[1;31mImportError\u001b[0m                               Traceback (most recent call last)",
      "Cell \u001b[1;32mIn[10], line 2\u001b[0m\n\u001b[0;32m      1\u001b[0m \u001b[38;5;28;01mfrom\u001b[39;00m\u001b[38;5;250m \u001b[39m\u001b[38;5;21;01mlips\u001b[39;00m\u001b[38;5;21;01m.\u001b[39;00m\u001b[38;5;21;01maugmented_simulators\u001b[39;00m\u001b[38;5;21;01m.\u001b[39;00m\u001b[38;5;21;01mtensorflow_models\u001b[39;00m\u001b[38;5;250m \u001b[39m\u001b[38;5;28;01mimport\u001b[39;00m LeapNet\n\u001b[1;32m----> 2\u001b[0m \u001b[38;5;28;01mfrom\u001b[39;00m\u001b[38;5;250m \u001b[39m\u001b[38;5;21;01mlips\u001b[39;00m\u001b[38;5;21;01m.\u001b[39;00m\u001b[38;5;21;01mdataset\u001b[39;00m\u001b[38;5;21;01m.\u001b[39;00m\u001b[38;5;21;01mscaler\u001b[39;00m\u001b[38;5;250m \u001b[39m\u001b[38;5;28;01mimport\u001b[39;00m PowerGridScaler\n\u001b[0;32m      4\u001b[0m \u001b[38;5;66;03m# the three lines bellow might be familiar to the tensorflow users. They tell tensorflow to not take all\u001b[39;00m\n\u001b[0;32m      5\u001b[0m \u001b[38;5;66;03m# the GPU video RAM for the model.\u001b[39;00m\n\u001b[0;32m      6\u001b[0m \u001b[38;5;28;01mimport\u001b[39;00m\u001b[38;5;250m \u001b[39m\u001b[38;5;21;01mtensorflow\u001b[39;00m\u001b[38;5;250m \u001b[39m\u001b[38;5;28;01mas\u001b[39;00m\u001b[38;5;250m \u001b[39m\u001b[38;5;21;01mtf\u001b[39;00m\n",
      "\u001b[1;31mImportError\u001b[0m: cannot import name 'PowerGridScaler' from 'lips.dataset.scaler' (c:\\Users\\jch_m\\DocumentsPerso\\Centrale-IAC\\Cours\\Python-ML\\ProjectMaster\\LIPS\\.env_lips\\lib\\site-packages\\lips\\dataset\\scaler\\__init__.py)"
     ]
    }
   ],
   "source": [
    "from lips.augmented_simulators.tensorflow_models import LeapNet\n",
    "from lips.dataset.scaler import PowerGridScaler\n",
    "\n",
    "# the three lines bellow might be familiar to the tensorflow users. They tell tensorflow to not take all\n",
    "# the GPU video RAM for the model.\n",
    "import tensorflow as tf\n",
    "physical_devices = tf.config.list_physical_devices('GPU') \n",
    "for el in physical_devices:\n",
    "    tf.config.experimental.set_memory_growth(el, True)"
   ]
  },
  {
   "cell_type": "code",
   "execution_count": null,
   "metadata": {},
   "outputs": [],
   "source": [
    "leap_net = LeapNet(name=\"tf_leapnet\",\n",
    "                   # The path to the augmented simulator config file. It contains all the required hyperparameters\n",
    "                   sim_config_path=SIM_CONFIG_PATH / \"tf_leapnet.ini\",\n",
    "                   sim_config_name=\"DEFAULT\",\n",
    "                   # the path to Benchmark config file\n",
    "                   bench_config_path=BENCH_CONFIG_PATH,\n",
    "                   # `Benchmark_name` should correspond to one of config sections created earlier\n",
    "                   bench_config_name=\"Benchmark1\",\n",
    "                   # We can indeed override the hyperparameters considered in the config file directly by assigning the corresponding arguments\n",
    "                   sizes_main=(150, 150), # we change the number of the layers and the neurons in the main part\n",
    "                   sizes_enc=(20, 20, 20), # changing the number of the layers and neurones in encoding part\n",
    "                   sizes_out=(100, 40), # changing the number of the layers and neurones in decoding part\n",
    "                   # A scaler should be used to normalize the data. Here, we use a specific scaler for power grid data\n",
    "                   scaler=PowerGridScaler, \n",
    "                   # A path where the logs should be stored for debugging purpose\n",
    "                   log_path=LOG_PATH)"
   ]
  },
  {
   "cell_type": "markdown",
   "metadata": {},
   "source": [
    "### Train the model "
   ]
  },
  {
   "cell_type": "code",
   "execution_count": null,
   "metadata": {},
   "outputs": [],
   "source": [
    "leap_net.train(train_dataset=benchmark1.train_dataset,\n",
    "               val_dataset=benchmark1.val_dataset,\n",
    "               epochs=200\n",
    "              )"
   ]
  },
  {
   "cell_type": "code",
   "execution_count": null,
   "metadata": {},
   "outputs": [],
   "source": [
    "leap_net.visualize_convergence()"
   ]
  },
  {
   "cell_type": "markdown",
   "metadata": {},
   "source": [
    "And then you can save it:"
   ]
  },
  {
   "cell_type": "code",
   "execution_count": null,
   "metadata": {},
   "outputs": [],
   "source": [
    "SAVE_PATH = get_path(TRAINED_MODEL_PATH, benchmark1)\n",
    "leap_net.save(SAVE_PATH)"
   ]
  },
  {
   "cell_type": "markdown",
   "metadata": {},
   "source": [
    "# Benchmark2 <a class=\"anchor\" id=\"benchmark2\"></a>\n",
    "The same procedure in benchmark1 can be applied without any exception to other benchmarks. The only difference resides in the instantiating of the benchmark class which provides the required datasets for this specific benchmark (`Benchmark2`). "
   ]
  },
  {
   "cell_type": "code",
   "execution_count": 11,
   "metadata": {},
   "outputs": [],
   "source": [
    "benchmark2 = PowerGridBenchmark(benchmark_name=\"Benchmark2\",\n",
    "                                benchmark_path=DATA_PATH,\n",
    "                                load_data_set=True,\n",
    "                                log_path=LOG_PATH,\n",
    "                                config_path=BENCH_CONFIG_PATH\n",
    "                               )"
   ]
  },
  {
   "cell_type": "markdown",
   "metadata": {},
   "source": [
    "To verify the config is loaded appropriately for this benchmark. As we have seen in Notebook 0, there are more evaluation criteria for this more complex benchmark, as the augmented simulators are supposed to predict more flow variables. "
   ]
  },
  {
   "cell_type": "code",
   "execution_count": 12,
   "metadata": {},
   "outputs": [
    {
     "name": "stdout",
     "output_type": "stream",
     "text": [
      "Benchmark name:  Benchmark2\n",
      "Environment name:  l2rpn_case14_sandbox\n",
      "Output attributes:  ('a_or', 'a_ex', 'p_or', 'p_ex', 'v_or', 'v_ex')\n",
      "Evaluation criteria: \n",
      "{'IndRed': ['TIME_INF'],\n",
      " 'ML': ['MSE_avg', 'MAE_avg', 'MAPE_avg', 'MAPE_90_avg', 'TIME_INF'],\n",
      " 'OOD': ['MSE_avg', 'MAE_avg', 'MAPE_avg', 'MAPE_90_avg', 'TIME_INF'],\n",
      " 'Physics': ['CURRENT_POS',\n",
      "             'VOLTAGE_POS',\n",
      "             'LOSS_POS',\n",
      "             'DISC_LINES',\n",
      "             'CHECK_LOSS',\n",
      "             'CHECK_GC',\n",
      "             'CHECK_LC',\n",
      "             'CHECK_VOLTAGE_EQ',\n",
      "             'CHECK_JOULE_LAW']}\n"
     ]
    }
   ],
   "source": [
    "print(\"Benchmark name: \", benchmark2.config.section_name)\n",
    "print(\"Environment name: \", benchmark2.config.get_option(\"env_name\"))\n",
    "print(\"Output attributes: \", benchmark2.config.get_option(\"attr_y\"))\n",
    "print(\"Evaluation criteria: \")\n",
    "pprint(benchmark2.config.get_option(\"eval_dict\"))"
   ]
  },
  {
   "cell_type": "markdown",
   "metadata": {},
   "source": [
    "## Fully Connected model <a class=\"anchor\" id=\"fc_benchmark2\"></a>"
   ]
  },
  {
   "cell_type": "code",
   "execution_count": 13,
   "metadata": {},
   "outputs": [],
   "source": [
    "from lips.augmented_simulators.tensorflow_models import TfFullyConnected\n",
    "from lips.dataset.scaler import StandardScaler\n",
    "\n",
    "# the three lines bellow might be familiar to the tensorflow users. They tell tensorflow to not take all\n",
    "# the GPU video RAM for the model.\n",
    "import tensorflow as tf\n",
    "physical_devices = tf.config.list_physical_devices('GPU') \n",
    "for el in physical_devices:\n",
    "    tf.config.experimental.set_memory_growth(el, True)\n",
    "\n",
    "# rebuild the baseline architecture\n",
    "tf_fc = TfFullyConnected(name=\"tf_fc\",\n",
    "                         bench_config_path=BENCH_CONFIG_PATH,\n",
    "                         bench_config_name=\"Benchmark2\",\n",
    "                         sim_config_path=SIM_CONFIG_PATH / \"tf_fc.ini\",\n",
    "                         sim_config_name=\"DEFAULT\",\n",
    "                         scaler=StandardScaler,\n",
    "                         log_path=LOG_PATH)"
   ]
  },
  {
   "cell_type": "code",
   "execution_count": 14,
   "metadata": {},
   "outputs": [
    {
     "name": "stdout",
     "output_type": "stream",
     "text": [
      "Epoch 1/200\n",
      "782/782 [==============================] - 4s 4ms/step - loss: 0.0974 - mae: 0.1591 - val_loss: 0.0187 - val_mae: 0.0928\n",
      "Epoch 2/200\n",
      "782/782 [==============================] - 3s 4ms/step - loss: 0.0105 - mae: 0.0699 - val_loss: 0.0088 - val_mae: 0.0649\n",
      "Epoch 3/200\n",
      "782/782 [==============================] - 3s 4ms/step - loss: 0.0062 - mae: 0.0543 - val_loss: 0.0058 - val_mae: 0.0527\n",
      "Epoch 4/200\n",
      "782/782 [==============================] - 3s 4ms/step - loss: 0.0046 - mae: 0.0466 - val_loss: 0.0060 - val_mae: 0.0534\n",
      "Epoch 5/200\n",
      "782/782 [==============================] - 3s 4ms/step - loss: 0.0037 - mae: 0.0421 - val_loss: 0.0038 - val_mae: 0.0425\n",
      "Epoch 6/200\n",
      "782/782 [==============================] - 3s 4ms/step - loss: 0.0031 - mae: 0.0383 - val_loss: 0.0035 - val_mae: 0.0412\n",
      "Epoch 7/200\n",
      "782/782 [==============================] - 3s 4ms/step - loss: 0.0026 - mae: 0.0356 - val_loss: 0.0029 - val_mae: 0.0372\n",
      "Epoch 8/200\n",
      "782/782 [==============================] - 3s 4ms/step - loss: 0.0024 - mae: 0.0337 - val_loss: 0.0027 - val_mae: 0.0359\n",
      "Epoch 9/200\n",
      "782/782 [==============================] - 3s 4ms/step - loss: 0.0021 - mae: 0.0319 - val_loss: 0.0024 - val_mae: 0.0344\n",
      "Epoch 10/200\n",
      "782/782 [==============================] - 3s 4ms/step - loss: 0.0019 - mae: 0.0306 - val_loss: 0.0025 - val_mae: 0.0352\n",
      "Epoch 11/200\n",
      "782/782 [==============================] - 3s 4ms/step - loss: 0.0018 - mae: 0.0295 - val_loss: 0.0024 - val_mae: 0.0342\n",
      "Epoch 12/200\n",
      "782/782 [==============================] - 3s 4ms/step - loss: 0.0017 - mae: 0.0282 - val_loss: 0.0017 - val_mae: 0.0288\n",
      "Epoch 13/200\n",
      "782/782 [==============================] - 3s 4ms/step - loss: 0.0016 - mae: 0.0276 - val_loss: 0.0020 - val_mae: 0.0306\n",
      "Epoch 14/200\n",
      "782/782 [==============================] - 3s 4ms/step - loss: 0.0014 - mae: 0.0263 - val_loss: 0.0017 - val_mae: 0.0285\n",
      "Epoch 15/200\n",
      "782/782 [==============================] - 3s 4ms/step - loss: 0.0014 - mae: 0.0259 - val_loss: 0.0017 - val_mae: 0.0280\n",
      "Epoch 16/200\n",
      "782/782 [==============================] - 3s 4ms/step - loss: 0.0013 - mae: 0.0254 - val_loss: 0.0018 - val_mae: 0.0296\n",
      "Epoch 17/200\n",
      "782/782 [==============================] - 3s 4ms/step - loss: 0.0013 - mae: 0.0247 - val_loss: 0.0016 - val_mae: 0.0279\n",
      "Epoch 18/200\n",
      "782/782 [==============================] - 3s 4ms/step - loss: 0.0012 - mae: 0.0239 - val_loss: 0.0017 - val_mae: 0.0287\n",
      "Epoch 19/200\n",
      "782/782 [==============================] - 3s 4ms/step - loss: 0.0012 - mae: 0.0242 - val_loss: 0.0017 - val_mae: 0.0285\n",
      "Epoch 20/200\n",
      "782/782 [==============================] - 3s 4ms/step - loss: 0.0011 - mae: 0.0233 - val_loss: 0.0014 - val_mae: 0.0253\n",
      "Epoch 21/200\n",
      "782/782 [==============================] - 3s 4ms/step - loss: 0.0011 - mae: 0.0225 - val_loss: 0.0016 - val_mae: 0.0276\n",
      "Epoch 22/200\n",
      "782/782 [==============================] - 3s 4ms/step - loss: 0.0011 - mae: 0.0225 - val_loss: 0.0013 - val_mae: 0.0248\n",
      "Epoch 23/200\n",
      "782/782 [==============================] - 3s 4ms/step - loss: 0.0010 - mae: 0.0221 - val_loss: 0.0015 - val_mae: 0.0264\n",
      "Epoch 24/200\n",
      "782/782 [==============================] - 3s 4ms/step - loss: 9.9634e-04 - mae: 0.0217 - val_loss: 0.0014 - val_mae: 0.0258\n",
      "Epoch 25/200\n",
      "782/782 [==============================] - 3s 4ms/step - loss: 9.8403e-04 - mae: 0.0215 - val_loss: 0.0011 - val_mae: 0.0229\n",
      "Epoch 26/200\n",
      "782/782 [==============================] - 3s 4ms/step - loss: 9.1550e-04 - mae: 0.0209 - val_loss: 0.0015 - val_mae: 0.0260\n",
      "Epoch 27/200\n",
      "782/782 [==============================] - 3s 4ms/step - loss: 9.5307e-04 - mae: 0.0211 - val_loss: 9.9300e-04 - val_mae: 0.0215\n",
      "Epoch 28/200\n",
      "782/782 [==============================] - 3s 4ms/step - loss: 8.8802e-04 - mae: 0.0205 - val_loss: 0.0011 - val_mae: 0.0223\n",
      "Epoch 29/200\n",
      "782/782 [==============================] - 3s 4ms/step - loss: 8.6205e-04 - mae: 0.0201 - val_loss: 0.0020 - val_mae: 0.0306\n",
      "Epoch 30/200\n",
      "782/782 [==============================] - 3s 4ms/step - loss: 8.5336e-04 - mae: 0.0200 - val_loss: 0.0011 - val_mae: 0.0230\n",
      "Epoch 31/200\n",
      "782/782 [==============================] - 3s 4ms/step - loss: 8.4052e-04 - mae: 0.0199 - val_loss: 0.0013 - val_mae: 0.0245\n",
      "Epoch 32/200\n",
      "782/782 [==============================] - 3s 4ms/step - loss: 8.2806e-04 - mae: 0.0197 - val_loss: 9.0397e-04 - val_mae: 0.0206\n",
      "Epoch 33/200\n",
      "782/782 [==============================] - 3s 4ms/step - loss: 7.8520e-04 - mae: 0.0192 - val_loss: 0.0013 - val_mae: 0.0242\n",
      "Epoch 34/200\n",
      "782/782 [==============================] - 3s 4ms/step - loss: 7.9877e-04 - mae: 0.0194 - val_loss: 9.7132e-04 - val_mae: 0.0215\n",
      "Epoch 35/200\n",
      "782/782 [==============================] - 3s 4ms/step - loss: 7.7445e-04 - mae: 0.0191 - val_loss: 9.9859e-04 - val_mae: 0.0214\n",
      "Epoch 36/200\n",
      "782/782 [==============================] - 3s 4ms/step - loss: 7.4490e-04 - mae: 0.0187 - val_loss: 7.9772e-04 - val_mae: 0.0197\n",
      "Epoch 37/200\n",
      "782/782 [==============================] - 3s 4ms/step - loss: 7.5199e-04 - mae: 0.0189 - val_loss: 9.6008e-04 - val_mae: 0.0212\n",
      "Epoch 38/200\n",
      "782/782 [==============================] - 3s 4ms/step - loss: 7.1443e-04 - mae: 0.0184 - val_loss: 9.3622e-04 - val_mae: 0.0209\n",
      "Epoch 39/200\n",
      "782/782 [==============================] - 3s 4ms/step - loss: 7.0924e-04 - mae: 0.0184 - val_loss: 9.2495e-04 - val_mae: 0.0205\n",
      "Epoch 40/200\n",
      "782/782 [==============================] - 3s 4ms/step - loss: 6.8084e-04 - mae: 0.0179 - val_loss: 8.5349e-04 - val_mae: 0.0201\n",
      "Epoch 41/200\n",
      "782/782 [==============================] - 3s 4ms/step - loss: 6.8498e-04 - mae: 0.0180 - val_loss: 9.0419e-04 - val_mae: 0.0211\n",
      "Epoch 42/200\n",
      "782/782 [==============================] - 3s 4ms/step - loss: 6.9786e-04 - mae: 0.0181 - val_loss: 8.1601e-04 - val_mae: 0.0201\n",
      "Epoch 43/200\n",
      "782/782 [==============================] - 3s 4ms/step - loss: 6.8142e-04 - mae: 0.0179 - val_loss: 7.7450e-04 - val_mae: 0.0193\n",
      "Epoch 44/200\n",
      "782/782 [==============================] - 3s 4ms/step - loss: 6.6455e-04 - mae: 0.0176 - val_loss: 6.7796e-04 - val_mae: 0.0181\n",
      "Epoch 45/200\n",
      "782/782 [==============================] - 3s 4ms/step - loss: 6.0458e-04 - mae: 0.0169 - val_loss: 8.5482e-04 - val_mae: 0.0200\n",
      "Epoch 46/200\n",
      "782/782 [==============================] - 3s 4ms/step - loss: 6.6987e-04 - mae: 0.0177 - val_loss: 6.9753e-04 - val_mae: 0.0183\n",
      "Epoch 47/200\n",
      "782/782 [==============================] - 3s 4ms/step - loss: 5.9784e-04 - mae: 0.0168 - val_loss: 7.6791e-04 - val_mae: 0.0195\n",
      "Epoch 48/200\n",
      "782/782 [==============================] - 3s 4ms/step - loss: 6.0742e-04 - mae: 0.0169 - val_loss: 6.9596e-04 - val_mae: 0.0184\n",
      "Epoch 49/200\n",
      "782/782 [==============================] - 3s 4ms/step - loss: 6.4430e-04 - mae: 0.0173 - val_loss: 6.7088e-04 - val_mae: 0.0180\n",
      "Epoch 50/200\n",
      "782/782 [==============================] - 3s 4ms/step - loss: 5.6622e-04 - mae: 0.0164 - val_loss: 7.5075e-04 - val_mae: 0.0190\n",
      "Epoch 51/200\n",
      "782/782 [==============================] - 3s 4ms/step - loss: 5.6649e-04 - mae: 0.0164 - val_loss: 7.5580e-04 - val_mae: 0.0190\n",
      "Epoch 52/200\n",
      "782/782 [==============================] - 3s 4ms/step - loss: 5.9657e-04 - mae: 0.0167 - val_loss: 7.4687e-04 - val_mae: 0.0187\n",
      "Epoch 53/200\n",
      "782/782 [==============================] - 3s 4ms/step - loss: 5.8139e-04 - mae: 0.0165 - val_loss: 8.3378e-04 - val_mae: 0.0196\n",
      "Epoch 54/200\n",
      "782/782 [==============================] - 3s 4ms/step - loss: 5.5928e-04 - mae: 0.0162 - val_loss: 6.8068e-04 - val_mae: 0.0177\n",
      "Epoch 55/200\n",
      "782/782 [==============================] - 3s 4ms/step - loss: 5.5943e-04 - mae: 0.0162 - val_loss: 7.4996e-04 - val_mae: 0.0185\n",
      "Epoch 56/200\n",
      "782/782 [==============================] - 3s 4ms/step - loss: 5.4483e-04 - mae: 0.0161 - val_loss: 6.5578e-04 - val_mae: 0.0173\n",
      "Epoch 57/200\n",
      "782/782 [==============================] - 3s 4ms/step - loss: 5.6410e-04 - mae: 0.0162 - val_loss: 5.6927e-04 - val_mae: 0.0164\n",
      "Epoch 58/200\n",
      "782/782 [==============================] - 3s 4ms/step - loss: 5.2052e-04 - mae: 0.0156 - val_loss: 7.6077e-04 - val_mae: 0.0191\n",
      "Epoch 59/200\n",
      "782/782 [==============================] - 3s 4ms/step - loss: 5.3561e-04 - mae: 0.0159 - val_loss: 5.0968e-04 - val_mae: 0.0155\n",
      "Epoch 60/200\n",
      "782/782 [==============================] - 3s 4ms/step - loss: 5.3126e-04 - mae: 0.0157 - val_loss: 8.0893e-04 - val_mae: 0.0190\n",
      "Epoch 61/200\n",
      "782/782 [==============================] - 3s 4ms/step - loss: 5.5256e-04 - mae: 0.0160 - val_loss: 7.0439e-04 - val_mae: 0.0180\n",
      "Epoch 62/200\n",
      "782/782 [==============================] - 3s 4ms/step - loss: 4.9941e-04 - mae: 0.0153 - val_loss: 5.5136e-04 - val_mae: 0.0160\n",
      "Epoch 63/200\n",
      "782/782 [==============================] - 3s 4ms/step - loss: 5.2199e-04 - mae: 0.0156 - val_loss: 6.9703e-04 - val_mae: 0.0188\n",
      "Epoch 64/200\n",
      "782/782 [==============================] - 3s 4ms/step - loss: 5.1416e-04 - mae: 0.0155 - val_loss: 7.2809e-04 - val_mae: 0.0182\n",
      "Epoch 65/200\n",
      "782/782 [==============================] - 3s 4ms/step - loss: 4.8144e-04 - mae: 0.0150 - val_loss: 7.6345e-04 - val_mae: 0.0191\n",
      "Epoch 66/200\n",
      "782/782 [==============================] - 3s 4ms/step - loss: 5.2119e-04 - mae: 0.0155 - val_loss: 5.8065e-04 - val_mae: 0.0162\n",
      "Epoch 67/200\n",
      "782/782 [==============================] - 3s 4ms/step - loss: 4.9422e-04 - mae: 0.0152 - val_loss: 6.0184e-04 - val_mae: 0.0163\n",
      "Epoch 68/200\n",
      "782/782 [==============================] - 3s 4ms/step - loss: 4.8358e-04 - mae: 0.0150 - val_loss: 6.2210e-04 - val_mae: 0.0168\n",
      "Epoch 69/200\n",
      "782/782 [==============================] - 3s 4ms/step - loss: 4.9888e-04 - mae: 0.0152 - val_loss: 6.9409e-04 - val_mae: 0.0186\n",
      "Epoch 70/200\n",
      "782/782 [==============================] - 3s 4ms/step - loss: 4.7070e-04 - mae: 0.0148 - val_loss: 6.9076e-04 - val_mae: 0.0181\n",
      "Epoch 71/200\n",
      "782/782 [==============================] - 3s 4ms/step - loss: 4.6208e-04 - mae: 0.0147 - val_loss: 5.6582e-04 - val_mae: 0.0164\n",
      "Epoch 72/200\n",
      "782/782 [==============================] - 3s 4ms/step - loss: 4.8189e-04 - mae: 0.0150 - val_loss: 6.3185e-04 - val_mae: 0.0173\n",
      "Epoch 73/200\n",
      "782/782 [==============================] - 3s 4ms/step - loss: 4.6751e-04 - mae: 0.0146 - val_loss: 5.6746e-04 - val_mae: 0.0166\n",
      "Epoch 74/200\n",
      "782/782 [==============================] - 3s 4ms/step - loss: 4.8554e-04 - mae: 0.0150 - val_loss: 6.3562e-04 - val_mae: 0.0175\n",
      "Epoch 75/200\n",
      "782/782 [==============================] - 3s 4ms/step - loss: 4.6390e-04 - mae: 0.0147 - val_loss: 6.9919e-04 - val_mae: 0.0181\n",
      "Epoch 76/200\n",
      "782/782 [==============================] - 3s 4ms/step - loss: 4.5183e-04 - mae: 0.0145 - val_loss: 5.6188e-04 - val_mae: 0.0163\n",
      "Epoch 77/200\n",
      "782/782 [==============================] - 3s 4ms/step - loss: 4.3695e-04 - mae: 0.0143 - val_loss: 5.6940e-04 - val_mae: 0.0165\n",
      "Epoch 78/200\n",
      "782/782 [==============================] - 3s 4ms/step - loss: 4.5674e-04 - mae: 0.0145 - val_loss: 4.2127e-04 - val_mae: 0.0142\n",
      "Epoch 79/200\n",
      "782/782 [==============================] - 3s 4ms/step - loss: 4.1267e-04 - mae: 0.0139 - val_loss: 5.2442e-04 - val_mae: 0.0158\n",
      "Epoch 80/200\n",
      "782/782 [==============================] - 3s 4ms/step - loss: 4.3640e-04 - mae: 0.0143 - val_loss: 6.9234e-04 - val_mae: 0.0182\n",
      "Epoch 81/200\n",
      "782/782 [==============================] - 3s 4ms/step - loss: 4.2120e-04 - mae: 0.0140 - val_loss: 6.3404e-04 - val_mae: 0.0163\n",
      "Epoch 82/200\n",
      "782/782 [==============================] - 3s 4ms/step - loss: 4.4262e-04 - mae: 0.0143 - val_loss: 5.0674e-04 - val_mae: 0.0152\n",
      "Epoch 83/200\n",
      "782/782 [==============================] - 3s 4ms/step - loss: 4.1284e-04 - mae: 0.0139 - val_loss: 5.8707e-04 - val_mae: 0.0168\n",
      "Epoch 84/200\n",
      "782/782 [==============================] - 3s 4ms/step - loss: 4.4282e-04 - mae: 0.0143 - val_loss: 4.2090e-04 - val_mae: 0.0139\n",
      "Epoch 85/200\n",
      "782/782 [==============================] - 3s 4ms/step - loss: 4.0900e-04 - mae: 0.0138 - val_loss: 4.5202e-04 - val_mae: 0.0143\n",
      "Epoch 86/200\n",
      "782/782 [==============================] - 3s 4ms/step - loss: 4.2937e-04 - mae: 0.0141 - val_loss: 7.9973e-04 - val_mae: 0.0185\n",
      "Epoch 87/200\n",
      "782/782 [==============================] - 3s 4ms/step - loss: 4.0601e-04 - mae: 0.0137 - val_loss: 4.6136e-04 - val_mae: 0.0146\n",
      "Epoch 88/200\n",
      "782/782 [==============================] - 3s 4ms/step - loss: 4.3983e-04 - mae: 0.0141 - val_loss: 4.5692e-04 - val_mae: 0.0146\n",
      "Epoch 89/200\n",
      "782/782 [==============================] - 3s 4ms/step - loss: 3.9042e-04 - mae: 0.0135 - val_loss: 5.0323e-04 - val_mae: 0.0145\n",
      "Epoch 90/200\n",
      "782/782 [==============================] - 3s 4ms/step - loss: 4.1041e-04 - mae: 0.0138 - val_loss: 6.3495e-04 - val_mae: 0.0175\n",
      "Epoch 91/200\n",
      "782/782 [==============================] - 3s 4ms/step - loss: 3.9673e-04 - mae: 0.0135 - val_loss: 5.9378e-04 - val_mae: 0.0169\n",
      "Epoch 92/200\n",
      "782/782 [==============================] - 3s 4ms/step - loss: 4.1231e-04 - mae: 0.0137 - val_loss: 5.0028e-04 - val_mae: 0.0153\n",
      "Epoch 93/200\n",
      "782/782 [==============================] - 3s 4ms/step - loss: 4.0079e-04 - mae: 0.0136 - val_loss: 6.0836e-04 - val_mae: 0.0171\n",
      "Epoch 94/200\n",
      "782/782 [==============================] - 3s 4ms/step - loss: 3.8219e-04 - mae: 0.0133 - val_loss: 4.6021e-04 - val_mae: 0.0148\n",
      "Epoch 95/200\n",
      "782/782 [==============================] - 3s 4ms/step - loss: 3.9043e-04 - mae: 0.0135 - val_loss: 4.4964e-04 - val_mae: 0.0145\n",
      "Epoch 96/200\n",
      "782/782 [==============================] - 3s 4ms/step - loss: 4.0286e-04 - mae: 0.0135 - val_loss: 7.9200e-04 - val_mae: 0.0195\n",
      "Epoch 97/200\n",
      "782/782 [==============================] - 3s 4ms/step - loss: 3.9747e-04 - mae: 0.0135 - val_loss: 3.7349e-04 - val_mae: 0.0132\n",
      "Epoch 98/200\n",
      "782/782 [==============================] - 3s 4ms/step - loss: 3.9037e-04 - mae: 0.0134 - val_loss: 6.1233e-04 - val_mae: 0.0170\n",
      "Epoch 99/200\n",
      "782/782 [==============================] - 3s 4ms/step - loss: 3.7887e-04 - mae: 0.0132 - val_loss: 3.9769e-04 - val_mae: 0.0135\n",
      "Epoch 100/200\n",
      "782/782 [==============================] - 3s 4ms/step - loss: 3.7978e-04 - mae: 0.0132 - val_loss: 4.5624e-04 - val_mae: 0.0144\n",
      "Epoch 101/200\n",
      "782/782 [==============================] - 3s 4ms/step - loss: 3.9343e-04 - mae: 0.0134 - val_loss: 4.7916e-04 - val_mae: 0.0153\n",
      "Epoch 102/200\n",
      "782/782 [==============================] - 3s 4ms/step - loss: 3.8488e-04 - mae: 0.0133 - val_loss: 4.3439e-04 - val_mae: 0.0140\n",
      "Epoch 103/200\n",
      "782/782 [==============================] - 3s 4ms/step - loss: 3.6590e-04 - mae: 0.0129 - val_loss: 4.5730e-04 - val_mae: 0.0143\n",
      "Epoch 104/200\n",
      "782/782 [==============================] - 3s 4ms/step - loss: 3.3863e-04 - mae: 0.0125 - val_loss: 5.1358e-04 - val_mae: 0.0158\n",
      "Epoch 105/200\n",
      "782/782 [==============================] - 3s 4ms/step - loss: 3.8979e-04 - mae: 0.0134 - val_loss: 4.7042e-04 - val_mae: 0.0145\n",
      "Epoch 106/200\n",
      "782/782 [==============================] - 3s 4ms/step - loss: 3.9223e-04 - mae: 0.0133 - val_loss: 3.6205e-04 - val_mae: 0.0129\n",
      "Epoch 107/200\n",
      "782/782 [==============================] - 3s 4ms/step - loss: 3.5004e-04 - mae: 0.0127 - val_loss: 5.2350e-04 - val_mae: 0.0156\n",
      "Epoch 108/200\n",
      "782/782 [==============================] - 3s 4ms/step - loss: 3.3967e-04 - mae: 0.0125 - val_loss: 4.1495e-04 - val_mae: 0.0140\n",
      "Epoch 109/200\n",
      "782/782 [==============================] - 3s 4ms/step - loss: 3.9065e-04 - mae: 0.0133 - val_loss: 6.0882e-04 - val_mae: 0.0168\n",
      "Epoch 110/200\n",
      "782/782 [==============================] - 3s 4ms/step - loss: 3.4423e-04 - mae: 0.0125 - val_loss: 6.3904e-04 - val_mae: 0.0166\n",
      "Epoch 111/200\n",
      "782/782 [==============================] - 3s 4ms/step - loss: 3.6267e-04 - mae: 0.0128 - val_loss: 3.8759e-04 - val_mae: 0.0134\n",
      "Epoch 112/200\n",
      "782/782 [==============================] - 3s 4ms/step - loss: 3.5363e-04 - mae: 0.0127 - val_loss: 4.2322e-04 - val_mae: 0.0142\n",
      "Epoch 113/200\n",
      "782/782 [==============================] - 3s 4ms/step - loss: 3.6520e-04 - mae: 0.0129 - val_loss: 5.0441e-04 - val_mae: 0.0157\n",
      "Epoch 114/200\n",
      "782/782 [==============================] - 3s 4ms/step - loss: 3.3438e-04 - mae: 0.0124 - val_loss: 4.1060e-04 - val_mae: 0.0135\n",
      "Epoch 115/200\n",
      "782/782 [==============================] - 3s 4ms/step - loss: 3.6616e-04 - mae: 0.0130 - val_loss: 4.3535e-04 - val_mae: 0.0145\n",
      "Epoch 116/200\n",
      "782/782 [==============================] - 3s 4ms/step - loss: 3.3253e-04 - mae: 0.0123 - val_loss: 4.6496e-04 - val_mae: 0.0149\n",
      "Epoch 117/200\n",
      "782/782 [==============================] - 3s 4ms/step - loss: 3.5159e-04 - mae: 0.0127 - val_loss: 4.4052e-04 - val_mae: 0.0140\n",
      "Epoch 118/200\n",
      "782/782 [==============================] - 3s 4ms/step - loss: 3.6721e-04 - mae: 0.0129 - val_loss: 3.5245e-04 - val_mae: 0.0126\n",
      "Epoch 119/200\n",
      "782/782 [==============================] - 3s 4ms/step - loss: 3.1515e-04 - mae: 0.0120 - val_loss: 5.0368e-04 - val_mae: 0.0153\n",
      "Epoch 120/200\n",
      "782/782 [==============================] - 3s 4ms/step - loss: 3.3972e-04 - mae: 0.0124 - val_loss: 3.8369e-04 - val_mae: 0.0131\n",
      "Epoch 121/200\n",
      "782/782 [==============================] - 3s 4ms/step - loss: 3.5481e-04 - mae: 0.0127 - val_loss: 3.4763e-04 - val_mae: 0.0128\n",
      "Epoch 122/200\n",
      "782/782 [==============================] - 3s 4ms/step - loss: 3.1917e-04 - mae: 0.0121 - val_loss: 5.2019e-04 - val_mae: 0.0153\n",
      "Epoch 123/200\n",
      "782/782 [==============================] - 3s 4ms/step - loss: 3.4453e-04 - mae: 0.0125 - val_loss: 4.5875e-04 - val_mae: 0.0144\n",
      "Epoch 124/200\n",
      "782/782 [==============================] - 3s 4ms/step - loss: 3.4589e-04 - mae: 0.0124 - val_loss: 3.5301e-04 - val_mae: 0.0128\n",
      "Epoch 125/200\n",
      "782/782 [==============================] - 3s 4ms/step - loss: 3.2231e-04 - mae: 0.0121 - val_loss: 3.7650e-04 - val_mae: 0.0133\n",
      "Epoch 126/200\n",
      "782/782 [==============================] - 4s 5ms/step - loss: 3.3424e-04 - mae: 0.0123 - val_loss: 4.3227e-04 - val_mae: 0.0142\n",
      "Epoch 127/200\n",
      "782/782 [==============================] - 3s 4ms/step - loss: 3.1553e-04 - mae: 0.0120 - val_loss: 4.6083e-04 - val_mae: 0.0143\n",
      "Epoch 128/200\n",
      "782/782 [==============================] - 3s 4ms/step - loss: 3.2344e-04 - mae: 0.0121 - val_loss: 4.0680e-04 - val_mae: 0.0135\n",
      "Epoch 129/200\n",
      "782/782 [==============================] - 3s 4ms/step - loss: 3.3231e-04 - mae: 0.0122 - val_loss: 3.7229e-04 - val_mae: 0.0126\n",
      "Epoch 130/200\n",
      "782/782 [==============================] - 3s 4ms/step - loss: 3.3014e-04 - mae: 0.0122 - val_loss: 3.3810e-04 - val_mae: 0.0123\n",
      "Epoch 131/200\n",
      "782/782 [==============================] - 3s 4ms/step - loss: 3.0176e-04 - mae: 0.0118 - val_loss: 2.8296e-04 - val_mae: 0.0115\n",
      "Epoch 132/200\n",
      "782/782 [==============================] - 3s 4ms/step - loss: 3.2939e-04 - mae: 0.0121 - val_loss: 4.7689e-04 - val_mae: 0.0149\n",
      "Epoch 133/200\n",
      "782/782 [==============================] - 3s 4ms/step - loss: 3.3721e-04 - mae: 0.0123 - val_loss: 3.3629e-04 - val_mae: 0.0123\n",
      "Epoch 134/200\n",
      "782/782 [==============================] - 3s 4ms/step - loss: 3.1116e-04 - mae: 0.0118 - val_loss: 4.0260e-04 - val_mae: 0.0138\n",
      "Epoch 135/200\n",
      "782/782 [==============================] - 3s 4ms/step - loss: 3.0806e-04 - mae: 0.0118 - val_loss: 4.1707e-04 - val_mae: 0.0137\n",
      "Epoch 136/200\n",
      "782/782 [==============================] - 3s 4ms/step - loss: 3.3991e-04 - mae: 0.0123 - val_loss: 4.9050e-04 - val_mae: 0.0149\n",
      "Epoch 137/200\n",
      "782/782 [==============================] - 3s 4ms/step - loss: 2.9781e-04 - mae: 0.0116 - val_loss: 4.7656e-04 - val_mae: 0.0146\n",
      "Epoch 138/200\n",
      "782/782 [==============================] - 3s 4ms/step - loss: 3.3790e-04 - mae: 0.0123 - val_loss: 5.7483e-04 - val_mae: 0.0163\n",
      "Epoch 139/200\n",
      "782/782 [==============================] - 3s 4ms/step - loss: 2.9153e-04 - mae: 0.0114 - val_loss: 3.1230e-04 - val_mae: 0.0120\n",
      "Epoch 140/200\n",
      "782/782 [==============================] - 3s 4ms/step - loss: 2.9717e-04 - mae: 0.0117 - val_loss: 2.8660e-04 - val_mae: 0.0117\n",
      "Epoch 141/200\n",
      "782/782 [==============================] - 3s 4ms/step - loss: 3.1895e-04 - mae: 0.0120 - val_loss: 6.1046e-04 - val_mae: 0.0165\n",
      "Epoch 142/200\n",
      "782/782 [==============================] - 3s 4ms/step - loss: 3.2223e-04 - mae: 0.0120 - val_loss: 3.1620e-04 - val_mae: 0.0120\n",
      "Epoch 143/200\n",
      "782/782 [==============================] - 3s 4ms/step - loss: 2.8535e-04 - mae: 0.0114 - val_loss: 3.1448e-04 - val_mae: 0.0119\n",
      "Epoch 144/200\n",
      "782/782 [==============================] - 3s 4ms/step - loss: 2.9232e-04 - mae: 0.0115 - val_loss: 4.5443e-04 - val_mae: 0.0145\n",
      "Epoch 145/200\n",
      "782/782 [==============================] - 3s 4ms/step - loss: 3.3282e-04 - mae: 0.0121 - val_loss: 4.7332e-04 - val_mae: 0.0143\n",
      "Epoch 146/200\n",
      "782/782 [==============================] - 3s 4ms/step - loss: 2.9714e-04 - mae: 0.0116 - val_loss: 3.1390e-04 - val_mae: 0.0122\n",
      "Epoch 147/200\n",
      "782/782 [==============================] - 3s 4ms/step - loss: 2.8801e-04 - mae: 0.0114 - val_loss: 4.2067e-04 - val_mae: 0.0137\n",
      "Epoch 148/200\n",
      "782/782 [==============================] - 4s 4ms/step - loss: 2.9334e-04 - mae: 0.0115 - val_loss: 4.4511e-04 - val_mae: 0.0144\n",
      "Epoch 149/200\n",
      "782/782 [==============================] - 3s 4ms/step - loss: 3.4463e-04 - mae: 0.0123 - val_loss: 3.2361e-04 - val_mae: 0.0120\n",
      "Epoch 150/200\n",
      "782/782 [==============================] - 3s 4ms/step - loss: 2.7927e-04 - mae: 0.0112 - val_loss: 3.2320e-04 - val_mae: 0.0122\n",
      "Epoch 151/200\n",
      "782/782 [==============================] - 3s 4ms/step - loss: 2.7952e-04 - mae: 0.0113 - val_loss: 3.5220e-04 - val_mae: 0.0130\n",
      "Epoch 152/200\n",
      "782/782 [==============================] - 3s 4ms/step - loss: 3.0522e-04 - mae: 0.0116 - val_loss: 3.1122e-04 - val_mae: 0.0120\n",
      "Epoch 153/200\n",
      "782/782 [==============================] - 3s 4ms/step - loss: 2.9037e-04 - mae: 0.0114 - val_loss: 3.6111e-04 - val_mae: 0.0123\n",
      "Epoch 154/200\n",
      "782/782 [==============================] - 3s 4ms/step - loss: 2.7879e-04 - mae: 0.0112 - val_loss: 3.6628e-04 - val_mae: 0.0131\n",
      "Epoch 155/200\n",
      "782/782 [==============================] - 3s 4ms/step - loss: 3.2810e-04 - mae: 0.0120 - val_loss: 3.2913e-04 - val_mae: 0.0124\n",
      "Epoch 156/200\n",
      "782/782 [==============================] - 3s 4ms/step - loss: 2.5403e-04 - mae: 0.0108 - val_loss: 4.0037e-04 - val_mae: 0.0134\n",
      "Epoch 157/200\n",
      "782/782 [==============================] - 3s 4ms/step - loss: 3.0155e-04 - mae: 0.0116 - val_loss: 3.2218e-04 - val_mae: 0.0121\n",
      "Epoch 158/200\n",
      "782/782 [==============================] - 3s 4ms/step - loss: 2.7679e-04 - mae: 0.0112 - val_loss: 3.1550e-04 - val_mae: 0.0119\n",
      "Epoch 159/200\n",
      "782/782 [==============================] - 3s 4ms/step - loss: 2.8391e-04 - mae: 0.0113 - val_loss: 3.1681e-04 - val_mae: 0.0123\n",
      "Epoch 160/200\n",
      "782/782 [==============================] - 3s 4ms/step - loss: 2.6482e-04 - mae: 0.0109 - val_loss: 5.1181e-04 - val_mae: 0.0147\n",
      "Epoch 161/200\n",
      "782/782 [==============================] - 3s 4ms/step - loss: 2.8170e-04 - mae: 0.0112 - val_loss: 4.3619e-04 - val_mae: 0.0136\n",
      "Epoch 162/200\n",
      "782/782 [==============================] - 3s 4ms/step - loss: 2.8683e-04 - mae: 0.0113 - val_loss: 3.8985e-04 - val_mae: 0.0125\n",
      "Epoch 163/200\n",
      "782/782 [==============================] - 3s 4ms/step - loss: 2.6791e-04 - mae: 0.0110 - val_loss: 3.3572e-04 - val_mae: 0.0124\n",
      "Epoch 164/200\n",
      "782/782 [==============================] - 3s 4ms/step - loss: 2.7794e-04 - mae: 0.0112 - val_loss: 3.2382e-04 - val_mae: 0.0119\n",
      "Epoch 165/200\n",
      "782/782 [==============================] - 3s 4ms/step - loss: 2.6889e-04 - mae: 0.0110 - val_loss: 4.0370e-04 - val_mae: 0.0134\n",
      "Epoch 166/200\n",
      "782/782 [==============================] - 3s 4ms/step - loss: 2.9399e-04 - mae: 0.0114 - val_loss: 4.1044e-04 - val_mae: 0.0137\n",
      "Epoch 167/200\n",
      "782/782 [==============================] - 3s 4ms/step - loss: 2.6200e-04 - mae: 0.0108 - val_loss: 3.5798e-04 - val_mae: 0.0122\n",
      "Epoch 168/200\n",
      "782/782 [==============================] - 3s 4ms/step - loss: 3.0258e-04 - mae: 0.0115 - val_loss: 3.4293e-04 - val_mae: 0.0128\n",
      "Epoch 169/200\n",
      "782/782 [==============================] - 3s 4ms/step - loss: 2.6306e-04 - mae: 0.0109 - val_loss: 3.0761e-04 - val_mae: 0.0116\n",
      "Epoch 170/200\n",
      "782/782 [==============================] - 3s 4ms/step - loss: 2.6275e-04 - mae: 0.0109 - val_loss: 4.2685e-04 - val_mae: 0.0137\n",
      "Epoch 171/200\n",
      "782/782 [==============================] - 3s 4ms/step - loss: 2.7583e-04 - mae: 0.0111 - val_loss: 3.1476e-04 - val_mae: 0.0121\n",
      "Epoch 172/200\n",
      "782/782 [==============================] - 3s 4ms/step - loss: 2.9831e-04 - mae: 0.0114 - val_loss: 4.1189e-04 - val_mae: 0.0138\n",
      "Epoch 173/200\n",
      "782/782 [==============================] - 3s 4ms/step - loss: 2.7379e-04 - mae: 0.0110 - val_loss: 2.5804e-04 - val_mae: 0.0107\n",
      "Epoch 174/200\n",
      "782/782 [==============================] - 3s 4ms/step - loss: 2.5202e-04 - mae: 0.0106 - val_loss: 2.9968e-04 - val_mae: 0.0116\n",
      "Epoch 175/200\n",
      "782/782 [==============================] - 3s 4ms/step - loss: 2.7369e-04 - mae: 0.0110 - val_loss: 3.0196e-04 - val_mae: 0.0114\n",
      "Epoch 176/200\n",
      "782/782 [==============================] - 3s 4ms/step - loss: 2.6128e-04 - mae: 0.0108 - val_loss: 3.8757e-04 - val_mae: 0.0133\n",
      "Epoch 177/200\n",
      "782/782 [==============================] - 3s 4ms/step - loss: 2.7729e-04 - mae: 0.0110 - val_loss: 2.6370e-04 - val_mae: 0.0109\n",
      "Epoch 178/200\n",
      "782/782 [==============================] - 3s 4ms/step - loss: 2.5575e-04 - mae: 0.0108 - val_loss: 2.9347e-04 - val_mae: 0.0116\n",
      "Epoch 179/200\n",
      "782/782 [==============================] - 3s 4ms/step - loss: 2.7313e-04 - mae: 0.0110 - val_loss: 2.1889e-04 - val_mae: 0.0099\n",
      "Epoch 180/200\n",
      "782/782 [==============================] - 3s 4ms/step - loss: 2.5338e-04 - mae: 0.0106 - val_loss: 3.0428e-04 - val_mae: 0.0116\n",
      "Epoch 181/200\n",
      "782/782 [==============================] - 3s 4ms/step - loss: 2.7289e-04 - mae: 0.0110 - val_loss: 3.8534e-04 - val_mae: 0.0131\n",
      "Epoch 182/200\n",
      "782/782 [==============================] - 3s 4ms/step - loss: 2.5767e-04 - mae: 0.0107 - val_loss: 3.0241e-04 - val_mae: 0.0116\n",
      "Epoch 183/200\n",
      "782/782 [==============================] - 3s 4ms/step - loss: 2.4667e-04 - mae: 0.0105 - val_loss: 3.5596e-04 - val_mae: 0.0118\n",
      "Epoch 184/200\n",
      "782/782 [==============================] - 3s 4ms/step - loss: 3.0668e-04 - mae: 0.0115 - val_loss: 3.3382e-04 - val_mae: 0.0120\n",
      "Epoch 185/200\n",
      "782/782 [==============================] - 3s 4ms/step - loss: 2.2477e-04 - mae: 0.0101 - val_loss: 3.6921e-04 - val_mae: 0.0126\n",
      "Epoch 186/200\n",
      "782/782 [==============================] - 3s 4ms/step - loss: 2.6642e-04 - mae: 0.0109 - val_loss: 3.4985e-04 - val_mae: 0.0125\n",
      "Epoch 187/200\n",
      "782/782 [==============================] - 3s 4ms/step - loss: 2.4889e-04 - mae: 0.0105 - val_loss: 2.4815e-04 - val_mae: 0.0106\n",
      "Epoch 188/200\n",
      "782/782 [==============================] - 3s 4ms/step - loss: 2.6003e-04 - mae: 0.0107 - val_loss: 3.1984e-04 - val_mae: 0.0120\n",
      "Epoch 189/200\n",
      "782/782 [==============================] - 3s 4ms/step - loss: 2.4866e-04 - mae: 0.0105 - val_loss: 2.7163e-04 - val_mae: 0.0110\n",
      "Epoch 190/200\n",
      "782/782 [==============================] - 3s 4ms/step - loss: 2.5081e-04 - mae: 0.0106 - val_loss: 3.8758e-04 - val_mae: 0.0136\n",
      "Epoch 191/200\n",
      "782/782 [==============================] - 3s 4ms/step - loss: 2.6419e-04 - mae: 0.0109 - val_loss: 2.7215e-04 - val_mae: 0.0110\n",
      "Epoch 192/200\n",
      "782/782 [==============================] - 3s 4ms/step - loss: 2.6236e-04 - mae: 0.0107 - val_loss: 3.4235e-04 - val_mae: 0.0119\n",
      "Epoch 193/200\n",
      "782/782 [==============================] - 3s 4ms/step - loss: 2.2617e-04 - mae: 0.0101 - val_loss: 2.8337e-04 - val_mae: 0.0114\n",
      "Epoch 194/200\n",
      "782/782 [==============================] - 3s 4ms/step - loss: 2.9326e-04 - mae: 0.0109 - val_loss: 4.1746e-04 - val_mae: 0.0138\n",
      "Epoch 195/200\n",
      "782/782 [==============================] - 3s 4ms/step - loss: 2.5130e-04 - mae: 0.0105 - val_loss: 2.8270e-04 - val_mae: 0.0113\n",
      "Epoch 196/200\n",
      "782/782 [==============================] - 3s 4ms/step - loss: 2.4432e-04 - mae: 0.0104 - val_loss: 2.8801e-04 - val_mae: 0.0113\n",
      "Epoch 197/200\n",
      "782/782 [==============================] - 3s 4ms/step - loss: 2.4595e-04 - mae: 0.0104 - val_loss: 3.1290e-04 - val_mae: 0.0121\n",
      "Epoch 198/200\n",
      "782/782 [==============================] - 4s 5ms/step - loss: 2.4947e-04 - mae: 0.0105 - val_loss: 3.1073e-04 - val_mae: 0.0117\n",
      "Epoch 199/200\n",
      "782/782 [==============================] - 4s 5ms/step - loss: 2.4966e-04 - mae: 0.0105 - val_loss: 2.5826e-04 - val_mae: 0.0108\n",
      "Epoch 200/200\n",
      "782/782 [==============================] - 4s 5ms/step - loss: 2.4910e-04 - mae: 0.0105 - val_loss: 4.2414e-04 - val_mae: 0.0139\n"
     ]
    },
    {
     "data": {
      "text/plain": [
       "<keras.callbacks.History at 0x220c2a2b820>"
      ]
     },
     "execution_count": 14,
     "metadata": {},
     "output_type": "execute_result"
    }
   ],
   "source": [
    "tf_fc.train(train_dataset=benchmark2.train_dataset, val_dataset=benchmark2.val_dataset, epochs=200)"
   ]
  },
  {
   "cell_type": "markdown",
   "metadata": {},
   "source": [
    "Visalize the convergence curves of the model. It comprises two curves which are based on the Loss metric on the basis of which the model is trained (Mean Squared Error `MSE`) and also a metric that is computed alongside the loss criteria (Mean Absolute Error `MAE`)."
   ]
  },
  {
   "cell_type": "code",
   "execution_count": 15,
   "metadata": {},
   "outputs": [
    {
     "data": {
      "image/png": "[encoded data removed]",
      "text/plain": [
       "<Figure size 1500x500 with 2 Axes>"
      ]
     },
     "metadata": {},
     "output_type": "display_data"
    }
   ],
   "source": [
    "tf_fc.visualize_convergence()"
   ]
  },
  {
   "cell_type": "markdown",
   "metadata": {},
   "source": [
    "And then you can save it:"
   ]
  },
  {
   "cell_type": "code",
   "execution_count": 16,
   "metadata": {},
   "outputs": [],
   "source": [
    "SAVE_PATH = get_path(TRAINED_MODEL_PATH, benchmark2)\n",
    "tf_fc.save(SAVE_PATH)"
   ]
  },
  {
   "cell_type": "markdown",
   "metadata": {},
   "source": [
    "## LeapNet model <a class=\"anchor\" id=\"leapnet_benchmark2\"></a>"
   ]
  },
  {
   "cell_type": "code",
   "execution_count": 17,
   "metadata": {},
   "outputs": [
    {
     "ename": "ImportError",
     "evalue": "cannot import name 'PowerGridScaler' from 'lips.dataset.scaler' (c:\\Users\\jch_m\\DocumentsPerso\\Centrale-IAC\\Cours\\Python-ML\\ProjectMaster\\LIPS\\.env_lips\\lib\\site-packages\\lips\\dataset\\scaler\\__init__.py)",
     "output_type": "error",
     "traceback": [
      "\u001b[1;31m---------------------------------------------------------------------------\u001b[0m",
      "\u001b[1;31mImportError\u001b[0m                               Traceback (most recent call last)",
      "Cell \u001b[1;32mIn[17], line 2\u001b[0m\n\u001b[0;32m      1\u001b[0m \u001b[38;5;28;01mfrom\u001b[39;00m\u001b[38;5;250m \u001b[39m\u001b[38;5;21;01mlips\u001b[39;00m\u001b[38;5;21;01m.\u001b[39;00m\u001b[38;5;21;01maugmented_simulators\u001b[39;00m\u001b[38;5;21;01m.\u001b[39;00m\u001b[38;5;21;01mtensorflow_models\u001b[39;00m\u001b[38;5;250m \u001b[39m\u001b[38;5;28;01mimport\u001b[39;00m LeapNet\n\u001b[1;32m----> 2\u001b[0m \u001b[38;5;28;01mfrom\u001b[39;00m\u001b[38;5;250m \u001b[39m\u001b[38;5;21;01mlips\u001b[39;00m\u001b[38;5;21;01m.\u001b[39;00m\u001b[38;5;21;01mdataset\u001b[39;00m\u001b[38;5;21;01m.\u001b[39;00m\u001b[38;5;21;01mscaler\u001b[39;00m\u001b[38;5;250m \u001b[39m\u001b[38;5;28;01mimport\u001b[39;00m PowerGridScaler\n\u001b[0;32m      4\u001b[0m \u001b[38;5;66;03m# the three lines bellow might be familiar to the tensorflow users. They tell tensorflow to not take all\u001b[39;00m\n\u001b[0;32m      5\u001b[0m \u001b[38;5;66;03m# the GPU video RAM for the model.\u001b[39;00m\n\u001b[0;32m      6\u001b[0m \u001b[38;5;28;01mimport\u001b[39;00m\u001b[38;5;250m \u001b[39m\u001b[38;5;21;01mtensorflow\u001b[39;00m\u001b[38;5;250m \u001b[39m\u001b[38;5;28;01mas\u001b[39;00m\u001b[38;5;250m \u001b[39m\u001b[38;5;21;01mtf\u001b[39;00m\n",
      "\u001b[1;31mImportError\u001b[0m: cannot import name 'PowerGridScaler' from 'lips.dataset.scaler' (c:\\Users\\jch_m\\DocumentsPerso\\Centrale-IAC\\Cours\\Python-ML\\ProjectMaster\\LIPS\\.env_lips\\lib\\site-packages\\lips\\dataset\\scaler\\__init__.py)"
     ]
    }
   ],
   "source": [
    "from lips.augmented_simulators.tensorflow_models import LeapNet\n",
    "from lips.dataset.scaler import PowerGridScaler\n",
    "\n",
    "# the three lines bellow might be familiar to the tensorflow users. They tell tensorflow to not take all\n",
    "# the GPU video RAM for the model.\n",
    "import tensorflow as tf\n",
    "physical_devices = tf.config.list_physical_devices('GPU') \n",
    "for el in physical_devices:\n",
    "    tf.config.experimental.set_memory_growth(el, True)"
   ]
  },
  {
   "cell_type": "code",
   "execution_count": null,
   "metadata": {},
   "outputs": [],
   "source": [
    "leap_net = LeapNet(name=\"tf_leapnet\",\n",
    "                   # The path to the augmented simulator config file. It contains all the required hyperparameters\n",
    "                   sim_config_path=SIM_CONFIG_PATH / \"tf_leapnet.ini\",\n",
    "                   sim_config_name=\"DEFAULT\",\n",
    "                   # the path to Benchmark config file\n",
    "                   bench_config_path=BENCH_CONFIG_PATH,\n",
    "                   # `Benchmark_name` should correspond to one of config sections created earlier\n",
    "                   bench_config_name=\"Benchmark2\",\n",
    "                   # We can indeed override the hyperparameters considered in the config file directly by assigning the corresponding arguments\n",
    "                   sizes_main=(150, 150), # we change the number of the layers and the neurons in the main part\n",
    "                   sizes_enc=(20, 20, 20), # changing the number of the layers and neurones in encoding part\n",
    "                   sizes_out=(100, 40), # changing the number of the layers and neurones in decoding part\n",
    "                   # A scaler should be used to normalize the data. Here, we use a specific scaler for power grid data\n",
    "                   scaler=PowerGridScaler, \n",
    "                   # A path where the logs should be stored for debugging purpose\n",
    "                   log_path=LOG_PATH)"
   ]
  },
  {
   "cell_type": "markdown",
   "metadata": {},
   "source": [
    "### Train the model "
   ]
  },
  {
   "cell_type": "code",
   "execution_count": null,
   "metadata": {},
   "outputs": [],
   "source": [
    "leap_net.train(train_dataset=benchmark2.train_dataset,\n",
    "               val_dataset=benchmark2.val_dataset,\n",
    "               epochs=200\n",
    "              )"
   ]
  },
  {
   "cell_type": "code",
   "execution_count": null,
   "metadata": {},
   "outputs": [],
   "source": [
    "leap_net.visualize_convergence()"
   ]
  },
  {
   "cell_type": "markdown",
   "metadata": {},
   "source": [
    "And then you can save it:"
   ]
  },
  {
   "cell_type": "code",
   "execution_count": null,
   "metadata": {},
   "outputs": [],
   "source": [
    "SAVE_PATH = get_path(TRAINED_MODEL_PATH, benchmark2)\n",
    "leap_net.save(SAVE_PATH)"
   ]
  },
  {
   "cell_type": "markdown",
   "metadata": {},
   "source": [
    "# Code another type of \"augmented_simulator\" <a id=\"code-another\"></a>\n",
    "\n",
    "In our framework, we have provided the implementations of augmented simulators based on `Tensorflow` and `Pytorch` libraries following the class diagram shown below.  \n",
    "\n",
    "![title](img/ClassDiagramAS.png)\n",
    "\n",
    "For now, we have provided two augmented simulators based on Tensorflow, namely `FullyConnected` and `LeapNet` architectures, and one augmented simulator (`FullyConnected`) using Pytorch library as a starting point for users familiar with Pytorch. \n",
    "\n",
    "For each of these libraries, we provide also a controller (base class) which provide the main functionalities to train and evaluate the augmented simulators. So the users could focus only on the interesting part which is the construction of an augmented simulator architecture. \n",
    "\n",
    "Coding another type of \"augmented simulator\" is not difficult. Finding one that work well for all the criteria is of course a different challenge.\n",
    "\n",
    "### Tensorflow\n",
    "Basically, an augmented simulator based on `TensorFlow` should:\n",
    "\n",
    "- inherit from `TensorflowSimulator`\n",
    "- implements the `build_model` where the architecture is defined\n",
    "- implements the `process_data` which prepare and scale the data for the specific augmented simulator\n",
    "- implementes the `_infer_size`, `_post_process` to infer the data dimensions and to post process the predictions (inverse scaling to find the original values)\n",
    "- implements `_save_metadata` and `_load_metadata` to save and load all the specific metadata of the implemented model\n",
    "\n",
    "More information is given on the documentation. And a fully working example is given in the `TfFullyConnected` class.\n",
    "\n",
    "\n",
    "### Pytorch\n",
    "For an augmented simulator based on `Pytorch`, the only difference resides in the first step where you can directly use pytorch logic, however, the remaining steps remains very similar:\n",
    "\n",
    "- Inherit from `torch.nn.Module`\n",
    "- Implements `build_model` to defin the architecture\n",
    "- Implements `forward` to define the interaction between modules\n",
    "- Implements `process_data`  which prepare and scale the data for the specific augmented simulator\n",
    "- implementes the `_infer_size`, `_post_process` to infer the data dimensions and to post process the predictions (inverse scaling to find the original values)\n",
    "- implements `_save_metadata` and `_load_metadata` to save and load all the specific metadata of the implemented model\n",
    "\n",
    "This is it, nothing more is required."
   ]
  },
  {
   "cell_type": "markdown",
   "metadata": {},
   "source": [
    "We provide also a **complete execution** example in Notebook 4 using both `Tensorflow` and `Pytorch` libraries:\n",
    "\n",
    "- Selecting a benchmark\n",
    "- Learn an augmented simulator on benchmark dataset\n",
    "- Evaluation of augmented simulator using selected evaluation criteria from 4 categories\n",
    "- Analysis and comparison of results\n",
    "\n",
    "Go to the Next notebook to learn more about it [$\\rightarrow$](./04_Complete_example.ipynb).\n",
    "\n",
    "Got to the previous notebook to see the examples of evaluation [$\\leftarrow$](./02_EvaluateBaseline.ipynb)."
   ]
  }
 ],
 "metadata": {
  "kernelspec": {
   "display_name": ".env_lips",
   "language": "python",
   "name": "python3"
  },
  "language_info": {
   "codemirror_mode": {
    "name": "ipython",
    "version": 3
   },
   "file_extension": ".py",
   "mimetype": "text/x-python",
   "name": "python",
   "nbconvert_exporter": "python",
   "pygments_lexer": "ipython3",
   "version": "3.10.0"
  }
 },
 "nbformat": 4,
 "nbformat_minor": 4
}
